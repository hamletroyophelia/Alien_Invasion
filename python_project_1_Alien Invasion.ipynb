{
 "cells": [
  {
   "cell_type": "markdown",
   "source": [
    "# Python方法\n",
    "`__init__` 是一个特殊的方法，它在 Python 中被称为构造器或初始化方法。当你创建一个对象（即类的实例）时，Python 会自动调用这个方法。它可以用来设置类的属性或执行其他需要在创建对象时进行的初始化操作。\n",
    "\n",
    "例如，假设我们有一个 `Person` 类，我们希望每个 `Person` 对象都有 `name` 和 `age` 属性。我们可以在 `__init__` 方法中设置这些属性："
   ],
   "metadata": {
    "collapsed": false
   }
  },
  {
   "cell_type": "code",
   "execution_count": 3,
   "outputs": [
    {
     "name": "stdout",
     "output_type": "stream",
     "text": [
      "Alice\n",
      "20\n"
     ]
    }
   ],
   "source": [
    "class Person:\n",
    "    def __init__(self, name, age):\n",
    "        self.name = name\n",
    "        self.age = age\n",
    "\n",
    "# 创建一个 Person 对象\n",
    "p = Person('Alice', 20)\n",
    "print(p.name)  # 输出：Alice\n",
    "print(p.age)  # 输出：20"
   ],
   "metadata": {
    "collapsed": false,
    "ExecuteTime": {
     "end_time": "2023-06-24T09:30:31.491822300Z",
     "start_time": "2023-06-24T09:30:31.472418900Z"
    }
   }
  },
  {
   "cell_type": "markdown",
   "source": [
    "在这个例子中，`self` 是一个指向新创建的对象的引用，`name` 和 `age` 是传递给 `__init__` 方法的参数。在方法体中，我们使用 `self.name = name` 和 `self.age = age` 来设置对象的属性。\n",
    "\n",
    "在你提到的 `ai_game` 的情况下，我猜你可能是在参考《Python编程：从入门到实践》这本书的外星人入侵游戏项目。在那个项目中，`ai_game` 是一个 `AlienInvasion` 类的实例，它在整个游戏中扮演着中心的角色，包含了游戏的各种设置、屏幕对象、飞船对象等。将 `ai_game` 作为参数传递给其他类的 `__init__` 方法，可以让这些类访问游戏的各种资源和设置。\n"
   ],
   "metadata": {
    "collapsed": false
   }
  },
  {
   "cell_type": "markdown",
   "source": [],
   "metadata": {
    "collapsed": false
   }
  },
  {
   "cell_type": "markdown",
   "source": [
    "对的，这个 `if __name__ == '__main__':` 块的作用是检查这个脚本是被直接运行还是被导入为模块。如果脚本是被直接运行的，那么 `__name__` 的值就是 `'__main__'`，如果脚本是被导入的，那么 `__name__` 的值就是脚本的文件名。\n",
    "\n",
    "在这个代码块中，`ai = AlienInvasion()` 创建了一个 AlienInvasion 的实例，并将其存储在 `ai` 变量中。这就是 `ai_game`（在这个例子中是 `ai`）实例创建的地方。然后，`ai.run_game()` 启动了游戏的主循环。\n",
    "\n",
    "这个 `if __name__ == '__main__':` 块确保只有在直接运行这个脚本时才会创建 AlienInvasion 实例并运行游戏。如果这个脚本是被导入为模块，那么这个代码块就不会执行。这是一种常见的 Python 惯用法，用于区分脚本的直接运行和导入。"
   ],
   "metadata": {
    "collapsed": false
   }
  },
  {
   "cell_type": "markdown",
   "source": [
    "# Pygame 学习\n"
   ],
   "metadata": {
    "collapsed": false
   }
  }
 ],
 "metadata": {
  "kernelspec": {
   "display_name": "Python 3",
   "language": "python",
   "name": "python3"
  },
  "language_info": {
   "codemirror_mode": {
    "name": "ipython",
    "version": 2
   },
   "file_extension": ".py",
   "mimetype": "text/x-python",
   "name": "python",
   "nbconvert_exporter": "python",
   "pygments_lexer": "ipython2",
   "version": "2.7.6"
  }
 },
 "nbformat": 4,
 "nbformat_minor": 0
}
